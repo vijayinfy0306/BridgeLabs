{
 "cells": [
  {
   "cell_type": "code",
   "execution_count": 3,
   "metadata": {},
   "outputs": [
    {
     "name": "stdout",
     "output_type": "stream",
     "text": [
      "Enter the String: hello\n",
      "How Are you\n"
     ]
    }
   ],
   "source": [
    "#..................................................Basic - 1 ..................................................................\n",
    "\n",
    "string = input(\"Enter the String: \")\n",
    "string=string.replace(\"hello\",\"How Are you\")\n",
    "print(string)"
   ]
  },
  {
   "cell_type": "code",
   "execution_count": 61,
   "metadata": {},
   "outputs": [
    {
     "name": "stdout",
     "output_type": "stream",
     "text": [
      "2020-03-22 13:51:54.389108\n"
     ]
    }
   ],
   "source": [
    "#....................................................Basic - 2 ................................................................\n",
    "\n",
    "import time\n",
    "\n",
    "start = time.time()\n",
    "time.sleep(5)\n",
    "end = time.time()\n",
    "stopwatch = end - start\n",
    "print(stopwatch)\n"
   ]
  },
  {
   "cell_type": "code",
   "execution_count": null,
   "metadata": {},
   "outputs": [],
   "source": [
    "#....................................................Intermediate - 2 .........................................................\n",
    "\n",
    "string = input(\"Enter the string: \")\n",
    "reverse = string[::-1]\n",
    "if(reverse==string):\n",
    "    print(\"Palindrome\")\n",
    "else:\n",
    "    print(\"Not a Palindrome\")\n"
   ]
  },
  {
   "cell_type": "code",
   "execution_count": null,
   "metadata": {},
   "outputs": [],
   "source": [
    "#........................................................Advanced.............................................................."
   ]
  },
  {
   "cell_type": "code",
   "execution_count": null,
   "metadata": {},
   "outputs": [],
   "source": []
  },
  {
   "cell_type": "code",
   "execution_count": null,
   "metadata": {},
   "outputs": [],
   "source": []
  },
  {
   "cell_type": "code",
   "execution_count": null,
   "metadata": {},
   "outputs": [],
   "source": []
  },
  {
   "cell_type": "code",
   "execution_count": null,
   "metadata": {},
   "outputs": [],
   "source": []
  },
  {
   "cell_type": "code",
   "execution_count": null,
   "metadata": {},
   "outputs": [],
   "source": []
  },
  {
   "cell_type": "code",
   "execution_count": null,
   "metadata": {},
   "outputs": [],
   "source": []
  },
  {
   "cell_type": "code",
   "execution_count": null,
   "metadata": {},
   "outputs": [],
   "source": []
  },
  {
   "cell_type": "code",
   "execution_count": null,
   "metadata": {},
   "outputs": [],
   "source": []
  },
  {
   "cell_type": "code",
   "execution_count": 27,
   "metadata": {},
   "outputs": [
    {
     "name": "stdout",
     "output_type": "stream",
     "text": [
      "Given Linked List\n",
      "85\n",
      "15\n",
      "4\n",
      "20\n",
      "\n",
      "Reversed Linked List\n",
      "20\n",
      "4\n",
      "15\n",
      "85\n"
     ]
    }
   ],
   "source": [
    "#........................................................Advanced - 1.....................................................\n",
    "# Node class  \n",
    "\n",
    "\n",
    "class Node: \n",
    "  \n",
    "      # Constructor to initialize the node object \n",
    "     def __init__(self, data): \n",
    "         self.data = data \n",
    "         self.next = None\n",
    "  \n",
    "class LinkedList: \n",
    "  \n",
    "                                                  # Function to initialize head   \n",
    "    def __init__(self): \n",
    "        self.head = None\n",
    "  \n",
    "                                                    # Function to reverse the linked list \n",
    "    def reverse(self): \n",
    "        prev = None\n",
    "        current = self.head \n",
    "        while(current is not None): \n",
    "            next = current.next\n",
    "            current.next = prev \n",
    "            prev = current \n",
    "            current = next\n",
    "        self.head = prev \n",
    "          \n",
    "                                                   # Function to insert a new node at the beginning \n",
    "    def push(self, new_data): \n",
    "        new_node = Node(new_data) \n",
    "        new_node.next = self.head \n",
    "        self.head = new_node \n",
    "  \n",
    "                                                          # Utility function to print the linked LinkedList \n",
    "    def printList(self): \n",
    "        temp = self.head \n",
    "        while(temp): \n",
    "            print (temp.data) \n",
    "            temp = temp.next\n",
    "  \n",
    "  \n",
    "                                                       # Driver program to test above functions \n",
    "llist = LinkedList() \n",
    "llist.push(20) \n",
    "llist.push(4) \n",
    "llist.push(15) \n",
    "llist.push(85) \n",
    "\n",
    "  \n",
    "print (\"Given Linked List\")\n",
    "llist.printList() \n",
    "llist.reverse() \n",
    "print (\"\\nReversed Linked List\")\n",
    "llist.printList() \n"
   ]
  },
  {
   "cell_type": "code",
   "execution_count": 28,
   "metadata": {},
   "outputs": [
    {
     "name": "stdout",
     "output_type": "stream",
     "text": [
      "Given linked list\n",
      "85 15 4 20 \n",
      "Reversed Linked list\n",
      "20 4 15 85 "
     ]
    }
   ],
   "source": [
    "#........................................................Advanced - 2 .........................................................\n",
    "\n",
    "import math \n",
    "  \n",
    "                                                             # Link list node  \n",
    "class Node:  \n",
    "    def __init__(self, data):  \n",
    "        self.data = data  \n",
    "        self.next = None\n",
    "      \n",
    "def LinkedList(): \n",
    "    head = None\n",
    "          \n",
    "                                                                 # Function to reverse the linked list  \n",
    "def reverse(node): \n",
    "    if (node == None): \n",
    "        return node \n",
    "          \n",
    "    if (node.next == None): \n",
    "        return node \n",
    "          \n",
    "    node1 = reverse(node.next) \n",
    "    node.next.next = node \n",
    "    node.next = None\n",
    "    return node1 \n",
    "       \n",
    "                                                                         # Function to print linked list  \n",
    "def printList(): \n",
    "    temp = head \n",
    "    while (temp != None) : \n",
    "        print(temp.data, end = \" \") \n",
    "        temp = temp.next\n",
    "          \n",
    "def push(head_ref, new_data): \n",
    "    new_node = Node(new_data) \n",
    "    new_node.data = new_data \n",
    "    new_node.next = head_ref \n",
    "    head_ref = new_node \n",
    "    return head_ref \n",
    "  \n",
    "                                                                             # Driver Code \n",
    "if __name__=='__main__':  \n",
    "      \n",
    "                                                                    # Start with the empty list  \n",
    "    head = LinkedList() \n",
    "    head = push(head, 20) \n",
    "    head = push(head, 4) \n",
    "    head = push(head, 15) \n",
    "    head = push(head, 85) \n",
    "  \n",
    "    print(\"Given linked list\") \n",
    "    printList() \n",
    "  \n",
    "    head = reverse(head) \n",
    "  \n",
    "    print(\"\\nReversed Linked list\") \n",
    "    printList() \n",
    "      \n",
    "                                                                     "
   ]
  },
  {
   "cell_type": "code",
   "execution_count": 34,
   "metadata": {},
   "outputs": [
    {
     "name": "stdout",
     "output_type": "stream",
     "text": [
      "Before sorted: \n",
      "1 2 3 4 5 \n",
      "After sorted: \n",
      "5 4 3 2 1 "
     ]
    }
   ],
   "source": [
    "class Node: \n",
    "      \n",
    "    def __init__(self, data, next): \n",
    "        self.data = data \n",
    "        self.next = next\n",
    "  \n",
    "class LinkedList: \n",
    "      \n",
    "    def __init__(self): \n",
    "        self.head = None\n",
    "          \n",
    "    # Function to push a new Node in  \n",
    "    # the linked list  \n",
    "    def push(self, new_data):  \n",
    "      \n",
    "        new_node = Node(new_data, self.head)  \n",
    "        self.head = new_node \n",
    "      \n",
    "    # Function to reverse linked list  \n",
    "    def reverseList(self):  \n",
    "      \n",
    "        # Stack to store elements of list  \n",
    "        stk = [] \n",
    "      \n",
    "        # Push the elements of list to stack  \n",
    "        ptr = self.head  \n",
    "        while ptr.next != None:  \n",
    "            stk.append(ptr)  \n",
    "            ptr = ptr.next\n",
    "      \n",
    "        # Pop from stack and replace  \n",
    "        # current nodes value'  \n",
    "        self.head = ptr  \n",
    "        while len(stk) != 0:  \n",
    "            ptr.next = stk.pop()  \n",
    "            ptr = ptr.next\n",
    "          \n",
    "        ptr.next = None\n",
    "      \n",
    "    # Function to print the Linked list  \n",
    "    def printList(self): \n",
    "          \n",
    "        curr = self.head \n",
    "        while curr:  \n",
    "            print(curr.data, end = \" \")  \n",
    "            curr = curr.next\n",
    "  \n",
    "# Driver Code  \n",
    "if __name__ == \"__main__\": \n",
    "  \n",
    "    # Start with the empty list \n",
    "    linkedList = LinkedList()  \n",
    "  \n",
    "    # Use push() to construct below list  \n",
    "    # 1.2.3.4.5 \n",
    "    linkedList.push(5)  \n",
    "    linkedList.push(4)  \n",
    "    linkedList.push(3)  \n",
    "    linkedList.push(2)  \n",
    "    linkedList.push(1)\n",
    "    \n",
    "    print(\"Before sorted: \")\n",
    "    linkedList.printList()\n",
    "    \n",
    "    linkedList.reverseList()  \n",
    "    print(\"\\nAfter sorted: \")\n",
    "    linkedList.printList()  "
   ]
  }
 ],
 "metadata": {
  "kernelspec": {
   "display_name": "Python 3",
   "language": "python",
   "name": "python3"
  },
  "language_info": {
   "codemirror_mode": {
    "name": "ipython",
    "version": 3
   },
   "file_extension": ".py",
   "mimetype": "text/x-python",
   "name": "python",
   "nbconvert_exporter": "python",
   "pygments_lexer": "ipython3",
   "version": "3.7.4"
  }
 },
 "nbformat": 4,
 "nbformat_minor": 2
}
